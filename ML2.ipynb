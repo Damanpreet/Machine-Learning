{
 "cells": [
  {
   "cell_type": "code",
   "execution_count": 1,
   "metadata": {},
   "outputs": [],
   "source": [
    "import numpy as np\n",
    "import pandas as pd\n",
    "import matplotlib.pyplot as plt\n",
    "\n",
    "\"\"\"\n",
    "    Loads data from a csv file\n",
    "\"\"\"\n",
    "def load_data(filename):\n",
    "    df = pd.read_csv(filename, header=None)\n",
    "    return df"
   ]
  },
  {
   "cell_type": "code",
   "execution_count": 4,
   "metadata": {},
   "outputs": [],
   "source": [
    "\"\"\"\n",
    "    Preprocess the training data\n",
    "\"\"\"\n",
    "def preprocess_train_data(df):\n",
    "    # Extract the predicted values from the dataset and replace '3' by '1' and '5' by '-1'\n",
    "    actual=(np.where(df.iloc[:,0]==3,1,-1))\n",
    "\n",
    "    # Extract the training data inputs from the dataset, append a bias term and assign it to X\n",
    "    X = np.column_stack([np.ones((df.shape[0],1)).astype(float),df.iloc[:,1:]])\n",
    "    return X, actual"
   ]
  },
  {
   "cell_type": "code",
   "execution_count": 10,
   "metadata": {},
   "outputs": [],
   "source": [
    "\"\"\"\n",
    "    Training linear classifier using online perceptron to fetch w\n",
    "\"\"\"\n",
    "def train_online_perceptron(dataset, actual, epoch):\n",
    "    # Initialise the weight array with zeros\n",
    "    w = np.zeros((1, dataset.shape[1]))\n",
    "    \n",
    "    # Initialise a weight vector to store the final weights at the end of each iteration\n",
    "    W = np.zeros((epoch, dataset.shape[1]))\n",
    "    \n",
    "    # For each iteration in epoch\n",
    "    for iter in range(epoch):\n",
    "        print('iteration: ', iter+1)\n",
    "        t=0 # Initializing T to zero ??\n",
    "        S=[] # Initialise an empty list which will contain samples which were incorrectly classified.\n",
    "        \n",
    "        # Initialise loss to zero for each iteration\n",
    "        total_error=0.0\n",
    "        \n",
    "        # Loop over each row in the dataset\n",
    "        for index in range(len(actual)):\n",
    "            x=dataset[index]\n",
    "            y=actual[index]\n",
    "            \n",
    "            # Compute activation for the current example in the dataset\n",
    "            activation = np.sign(np.matmul(w,np.transpose(x)))\n",
    "            \n",
    "            # If the prediction is wrong, update the weights\n",
    "            if (np.dot(activation, y) <= 0):\n",
    "                # update weights\n",
    "                w = w + np.dot(y, x)\n",
    "                t += 1 #??\n",
    "            # Calculate the error for missclassification    \n",
    "            total_error+= max(0, -1*np.dot(y, activation))\n",
    "        \n",
    "        W[iter]=w #final weights at the end of last iteration.\n",
    "        \n",
    "        print(\"Total error: \", total_error/t)\n",
    "    return W # return the final estimated weights "
   ]
  },
  {
   "cell_type": "code",
   "execution_count": 6,
   "metadata": {},
   "outputs": [
    {
     "name": "stdout",
     "output_type": "stream",
     "text": [
      "   0    1    2    3    4    5    6    7    8    9   ...   775  776  777  778  \\\n",
      "0    5  0.0  0.0  0.0  0.0  0.0  0.0  0.0  0.0  0.0 ...   0.0  0.0  0.0  0.0   \n",
      "1    5  0.0  0.0  0.0  0.0  0.0  0.0  0.0  0.0  0.0 ...   0.0  0.0  0.0  0.0   \n",
      "2    3  0.0  0.0  0.0  0.0  0.0  0.0  0.0  0.0  0.0 ...   0.0  0.0  0.0  0.0   \n",
      "3    5  0.0  0.0  0.0  0.0  0.0  0.0  0.0  0.0  0.0 ...   0.0  0.0  0.0  0.0   \n",
      "4    3  0.0  0.0  0.0  0.0  0.0  0.0  0.0  0.0  0.0 ...   0.0  0.0  0.0  0.0   \n",
      "\n",
      "   779  780  781  782  783  784  \n",
      "0  0.0  0.0  0.0  0.0  0.0  0.0  \n",
      "1  0.0  0.0  0.0  0.0  0.0  0.0  \n",
      "2  0.0  0.0  0.0  0.0  0.0  0.0  \n",
      "3  0.0  0.0  0.0  0.0  0.0  0.0  \n",
      "4  0.0  0.0  0.0  0.0  0.0  0.0  \n",
      "\n",
      "[5 rows x 785 columns]\n"
     ]
    }
   ],
   "source": [
    "# Load training data\n",
    "df = load_data('pa2_train.csv')\n",
    "print(df.head())"
   ]
  },
  {
   "cell_type": "code",
   "execution_count": 7,
   "metadata": {},
   "outputs": [
    {
     "name": "stdout",
     "output_type": "stream",
     "text": [
      "[[1. 0. 0. ... 0. 0. 0.]\n",
      " [1. 0. 0. ... 0. 0. 0.]\n",
      " [1. 0. 0. ... 0. 0. 0.]\n",
      " ...\n",
      " [1. 0. 0. ... 0. 0. 0.]\n",
      " [1. 0. 0. ... 0. 0. 0.]\n",
      " [1. 0. 0. ... 0. 0. 0.]]\n",
      "[-1 -1  1 ...  1 -1  1]\n"
     ]
    }
   ],
   "source": [
    "X, Y = preprocess_train_data(df)\n",
    "print(X)\n",
    "print(Y)"
   ]
  },
  {
   "cell_type": "code",
   "execution_count": 11,
   "metadata": {},
   "outputs": [
    {
     "name": "stdout",
     "output_type": "stream",
     "text": [
      "iteration:  1\n",
      "Total error:  [0.99778271]\n",
      "iteration:  2\n",
      "Total error:  [1.]\n",
      "iteration:  3\n",
      "Total error:  [1.]\n",
      "iteration:  4\n",
      "Total error:  [1.]\n",
      "iteration:  5\n",
      "Total error:  [1.]\n",
      "iteration:  6\n",
      "Total error:  [1.]\n",
      "iteration:  7\n",
      "Total error:  [1.]\n",
      "iteration:  8\n",
      "Total error:  [1.]\n",
      "iteration:  9\n",
      "Total error:  [1.]\n",
      "iteration:  10\n",
      "Total error:  [1.]\n",
      "iteration:  11\n",
      "Total error:  [1.]\n",
      "iteration:  12\n",
      "Total error:  [1.]\n",
      "iteration:  13\n",
      "Total error:  [1.]\n",
      "iteration:  14\n",
      "Total error:  [1.]\n",
      "iteration:  15\n",
      "Total error:  [1.]\n",
      "[[ -23.    0.    0. ...    0.    0.    0.]\n",
      " [ -39.    0.    0. ...    0.    0.    0.]\n",
      " [ -61.    0.    0. ...    0.    0.    0.]\n",
      " ...\n",
      " [-182.    0.    0. ...    0.    0.    0.]\n",
      " [-191.    0.    0. ...    0.    0.    0.]\n",
      " [-202.    0.    0. ...    0.    0.    0.]]\n"
     ]
    }
   ],
   "source": [
    "\n",
    "Trained_W=train_online_perceptron(X, Y, 15)\n",
    "print(Trained_W)\n",
    "    "
   ]
  },
  {
   "cell_type": "code",
   "execution_count": null,
   "metadata": {},
   "outputs": [],
   "source": []
  }
 ],
 "metadata": {
  "kernelspec": {
   "display_name": "Python 3",
   "language": "python",
   "name": "python3"
  },
  "language_info": {
   "codemirror_mode": {
    "name": "ipython",
    "version": 3
   },
   "file_extension": ".py",
   "mimetype": "text/x-python",
   "name": "python",
   "nbconvert_exporter": "python",
   "pygments_lexer": "ipython3",
   "version": "3.7.0"
  }
 },
 "nbformat": 4,
 "nbformat_minor": 2
}
