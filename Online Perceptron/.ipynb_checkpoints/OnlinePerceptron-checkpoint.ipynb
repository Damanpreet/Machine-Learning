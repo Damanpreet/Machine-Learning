{
 "cells": [
  {
   "cell_type": "code",
   "execution_count": 1,
   "metadata": {},
   "outputs": [],
   "source": [
    "import numpy as np\n",
    "import pandas as pd\n",
    "import matplotlib.pyplot as plt\n",
    "\n",
    "\"\"\"\n",
    "    Loads data from a csv file\n",
    "\"\"\"\n",
    "def load_data(filename):\n",
    "    df = pd.read_csv(filename, header=None)\n",
    "    return df"
   ]
  },
  {
   "cell_type": "code",
   "execution_count": 2,
   "metadata": {},
   "outputs": [],
   "source": [
    "\"\"\"\n",
    "    Preprocess the training data\n",
    "\"\"\"\n",
    "def preprocess_train_data(df):\n",
    "    # Extract the predicted values from the dataset and replace '3' by '1' and '5' by '-1'\n",
    "    actual=(np.where(df.iloc[:,0]==3,1,-1))\n",
    "    \n",
    "    # Extract the training data inputs from the dataset, append a bias term and assign it to X\n",
    "    X = np.column_stack([np.ones((df.shape[0],1)).astype(float),df.iloc[:,1:]])\n",
    "    return X, actual"
   ]
  },
  {
   "cell_type": "code",
   "execution_count": 3,
   "metadata": {},
   "outputs": [],
   "source": [
    "\"\"\"\n",
    "    Training linear classifier using online perceptron to fetch w\n",
    "\"\"\"\n",
    "def train_online_perceptron(dataset, actual, epoch):\n",
    "    # Initialise the weight array with zeros\n",
    "    w = np.zeros((dataset.shape[1], 1))\n",
    "    \n",
    "    # Initialise a weight array to store the final weights at the end of each iteration\n",
    "    W = np.zeros((dataset.shape[1], epoch))\n",
    "    \n",
    "     # Store the accuracy\n",
    "    accuracy = np.zeros((epoch, 1))\n",
    "    \n",
    "    # For each iteration in epoch\n",
    "    for iter in range(epoch):\n",
    "        t=0 # t - Keeps the count of total no of examples misclassifed in each iteration\n",
    "        \n",
    "        # Loop over each row in the dataset\n",
    "        for index in range(len(actual)):\n",
    "            x=dataset[index].reshape((1, dataset.shape[1]))\n",
    "            y=actual[index]\n",
    "            \n",
    "            # Compute activation for the current example in the dataset\n",
    "            activation = np.sign(np.matmul(x, w))\n",
    "            \n",
    "            cur_error = activation[0]*y\n",
    "            # If the prediction is wrong, update the weights\n",
    "            if (cur_error <= 0):\n",
    "                # update weights\n",
    "                w = w + y*np.transpose(x)\n",
    "                t += 1 # number of updates on weights\n",
    "                \n",
    "        # Calculate the accouracy at the end of each iteration\n",
    "        iter_accuracy = (1-t/len(actual))*100\n",
    "        \n",
    "        accuracy[iter] = iter_accuracy #Storing accuracy at each iteration in an array\n",
    "       \n",
    "        W[:,iter:]=w #final weights at the end of last iteration.\n",
    "        \n",
    "    return accuracy, W # return the final estimated weights "
   ]
  },
  {
   "cell_type": "code",
   "execution_count": 4,
   "metadata": {},
   "outputs": [],
   "source": [
    "\"\"\"\n",
    "    Verify w for each iteration on the validation dataset.\n",
    "\"\"\"\n",
    "def validate_online_perceptron(dataset, actual, epoch, W):    \n",
    "     # Store the accuracy\n",
    "    accuracy = np.zeros((epoch, 1))\n",
    "    \n",
    "    # For each iteration in epoch\n",
    "    for iter in range(epoch):\n",
    "        t=0 # t - Keeps the count of total no of examples misclassifed in each iteration\n",
    "        \n",
    "        # Loop over each row in the dataset\n",
    "        for index in range(len(actual)):\n",
    "            x=dataset[index].reshape((1, dataset.shape[1]))\n",
    "            y=actual[index]\n",
    "            w=W[:,iter]\n",
    "            \n",
    "            # Compute activation for the current example in the dataset\n",
    "            activation = np.sign(np.matmul(x, w))\n",
    "            \n",
    "            cur_error = activation[0]*y\n",
    "            # If the prediction is wrong, increase the count\n",
    "            if (cur_error <= 0):\n",
    "                t += 1 \n",
    "                \n",
    "        # Calculate the accouracy at the end of each iteration\n",
    "        iter_accuracy = (1-t/len(actual))*100\n",
    "        \n",
    "        accuracy[iter] = iter_accuracy #Storing accuracy at each iteration in an array\n",
    "        \n",
    "    return accuracy                    # return the final estimated weights "
   ]
  },
  {
   "cell_type": "code",
   "execution_count": 5,
   "metadata": {},
   "outputs": [],
   "source": [
    "\"\"\"\n",
    "    Predictions on the sample in the test set.\n",
    "\"\"\"\n",
    "def predict_online_perceptron(dataset, W):\n",
    "    output=np.zeros((dataset.shape[0], 1))\n",
    "    # Predict the output for the dataset\n",
    "#     output = np.sign(np.matmul(dataset, W))\n",
    "    output = (np.where(np.matmul(dataset, W)>0,1,-1))\n",
    "    return output                    # return the ouput values "
   ]
  },
  {
   "cell_type": "code",
   "execution_count": 6,
   "metadata": {},
   "outputs": [],
   "source": [
    "# Load training data\n",
    "df = load_data('pa2_train.csv')"
   ]
  },
  {
   "cell_type": "code",
   "execution_count": 7,
   "metadata": {},
   "outputs": [],
   "source": [
    "X, Y = preprocess_train_data(df)"
   ]
  },
  {
   "cell_type": "code",
   "execution_count": 8,
   "metadata": {
    "scrolled": true
   },
   "outputs": [],
   "source": [
    "epoch = 15\n",
    "train_accuracy, trained_W=train_online_perceptron(X, Y, epoch)"
   ]
  },
  {
   "cell_type": "code",
   "execution_count": 9,
   "metadata": {},
   "outputs": [],
   "source": [
    "# Load validation data\n",
    "df_valid = load_data('pa2_valid.csv')"
   ]
  },
  {
   "cell_type": "code",
   "execution_count": 10,
   "metadata": {},
   "outputs": [],
   "source": [
    "X_valid, Y_valid = preprocess_train_data(df_valid)"
   ]
  },
  {
   "cell_type": "code",
   "execution_count": 11,
   "metadata": {},
   "outputs": [],
   "source": [
    "valid_accuracy = validate_online_perceptron(X_valid, Y_valid, epoch, trained_W)"
   ]
  },
  {
   "cell_type": "code",
   "execution_count": 12,
   "metadata": {},
   "outputs": [
    {
     "data": {
      "image/png": "[encoded data removed]",
      "text/plain": [
       "<Figure size 432x288 with 1 Axes>"
      ]
     },
     "metadata": {
      "needs_background": "light"
     },
     "output_type": "display_data"
    }
   ],
   "source": [
    "# Plot the recorded accuracies on training and validation data vs the iteration number\n",
    "# t = np.linspace(1, 15, linewidth=2)\n",
    "fig, ax = plt.subplots()\n",
    "y=range(1,epoch+1)\n",
    "ax.plot(y,valid_accuracy, 'o', linestyle='solid', color='green', label='Validation Data')\n",
    "plt.xlabel('Iterations')\n",
    "ax.plot(y,train_accuracy, 'o', linestyle='solid', color='red', label='Training Data')\n",
    "plt.ylabel('Accuracy')\n",
    "legend = ax.legend(loc='lower right', shadow=True, fontsize='x-large')\n",
    "# Put a nicer background color on the legend.\n",
    "legend.get_frame().set_facecolor('C0')\n",
    "plt.show()"
   ]
  },
  {
   "cell_type": "code",
   "execution_count": 13,
   "metadata": {},
   "outputs": [],
   "source": [
    "# Load test data\n",
    "df_test = load_data('pa2_test_no_label.csv')"
   ]
  },
  {
   "cell_type": "code",
   "execution_count": 15,
   "metadata": {},
   "outputs": [],
   "source": [
    "# Pre-process the test data to add a bias term.\n",
    "X_test = np.column_stack([np.ones((df_test.shape[0],1)).astype(float),df_test])\n",
    "Efficient_W = np.zeros((X_test.shape[1],1))\n",
    "Efficient_W = trained_W[:,epoch-2]"
   ]
  },
  {
   "cell_type": "code",
   "execution_count": 16,
   "metadata": {},
   "outputs": [
    {
     "name": "stdout",
     "output_type": "stream",
     "text": [
      "[-1 -1 -1 ... -1  1 -1]\n"
     ]
    }
   ],
   "source": [
    "predict_output = predict_online_perceptron(X_test, Efficient_W)"
   ]
  },
  {
   "cell_type": "code",
   "execution_count": 17,
   "metadata": {},
   "outputs": [],
   "source": [
    "np.savetxt(\"oplabel.csv\", predict_output, fmt='%i', delimiter=\",\")"
   ]
  }
 ],
 "metadata": {
  "kernelspec": {
   "display_name": "Python 3",
   "language": "python",
   "name": "python3"
  },
  "language_info": {
   "codemirror_mode": {
    "name": "ipython",
    "version": 3
   },
   "file_extension": ".py",
   "mimetype": "text/x-python",
   "name": "python",
   "nbconvert_exporter": "python",
   "pygments_lexer": "ipython3",
   "version": "3.7.0"
  }
 },
 "nbformat": 4,
 "nbformat_minor": 2
}
