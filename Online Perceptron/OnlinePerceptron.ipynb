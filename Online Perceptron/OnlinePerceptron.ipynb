{
 "cells": [
  {
   "cell_type": "code",
   "execution_count": 18,
   "metadata": {},
   "outputs": [],
   "source": [
    "import numpy as np\n",
    "import pandas as pd\n",
    "import matplotlib.pyplot as plt\n",
    "import time"
   ]
  },
  {
   "cell_type": "code",
   "execution_count": 10,
   "metadata": {},
   "outputs": [],
   "source": [
    "\"\"\"\n",
    "    Loads data from a csv file\n",
    "\"\"\"\n",
    "def load_data(filename):\n",
    "    df = pd.read_csv(filename, header=None)\n",
    "    return df"
   ]
  },
  {
   "cell_type": "code",
   "execution_count": 52,
   "metadata": {},
   "outputs": [],
   "source": [
    "\"\"\"\n",
    "    Preprocess the training data\n",
    "\"\"\"\n",
    "def preprocess_data(df):\n",
    "    # Extract the predicted values from the dataset and replace '3' by '1' and '5' by '-1'\n",
    "    Y_actual=(np.where(df.iloc[:,0]==3,1,-1))\n",
    "    Y = Y_actual.reshape((len(Y_actual),1)) \n",
    "    # Extract the training data inputs from the dataset, append a bias term and assign it to X\n",
    "    X = np.column_stack([np.ones((df.shape[0],1)).astype(float), df.values[:,1:]])\n",
    "    return X, Y"
   ]
  },
  {
   "cell_type": "code",
   "execution_count": 19,
   "metadata": {},
   "outputs": [],
   "source": [
    "\"\"\"\n",
    "    Training linear classifier using online perceptron to fetch w\n",
    "\"\"\"\n",
    "def train_online_perceptron(dataset, actual, epoch):\n",
    "    t_in = time.time()\n",
    "    w = np.zeros((1, dataset.shape[1]))\n",
    "    \n",
    "    W = np.zeros((epoch, dataset.shape[1]))\n",
    "    \n",
    "    loss = np.zeros((epoch))\n",
    "    \n",
    "    for iter in range(epoch):\n",
    "        error_iter=0.0\n",
    "        \n",
    "        for index in range(len(actual)):\n",
    "            \n",
    "            x = dataset[index]\n",
    "            y = actual[index]\n",
    "            activation = np.sign(np.dot(w, np.transpose(x)))\n",
    "            cur_g = activation * y\n",
    "            \n",
    "            if (cur_g <= 0):\n",
    "                w = w + y * x\n",
    "                error_iter -= cur_g\n",
    "        loss[iter] = error_iter   \n",
    "        W[iter,:] = w \n",
    "    print('Total training time: ', time.time()-t_in)\n",
    "    return W "
   ]
  },
  {
   "cell_type": "code",
   "execution_count": 45,
   "metadata": {},
   "outputs": [],
   "source": [
    "'''\n",
    "    Predict output\n",
    "'''\n",
    "def predict_output(X, W):\n",
    "    return np.where(np.matmul(X, W) > 0, 1, -1)"
   ]
  },
  {
   "cell_type": "code",
   "execution_count": 64,
   "metadata": {},
   "outputs": [],
   "source": [
    "'''\n",
    "    Calculate accuracy\n",
    "'''\n",
    "def calculate_accuracy(Y_actual, Y_pred):\n",
    "    pred_actual = np.hstack((Y_actual, Y_pred))\n",
    "    result = np.product(pred_actual, axis = 1)\n",
    "    return np.sum(result > 0) / len(Y_actual) * 100"
   ]
  },
  {
   "cell_type": "code",
   "execution_count": 54,
   "metadata": {},
   "outputs": [],
   "source": [
    "# Load training and validation data\n",
    "df_train = load_data('pa2_train.csv')\n",
    "X_train, Y_train = preprocess_train_data(df_train)\n",
    "df_val = load_data('pa2_valid.csv')\n",
    "X_val, Y_val = preprocess_train_data(df_val)"
   ]
  },
  {
   "cell_type": "code",
   "execution_count": 44,
   "metadata": {},
   "outputs": [
    {
     "name": "stdout",
     "output_type": "stream",
     "text": [
      "Total training time:  0.9335055351257324\n",
      "[[ -23.    0.    0. ...    0.    0.    0.]\n",
      " [ -39.    0.    0. ...    0.    0.    0.]\n",
      " [ -61.    0.    0. ...    0.    0.    0.]\n",
      " ...\n",
      " [-182.    0.    0. ...    0.    0.    0.]\n",
      " [-191.    0.    0. ...    0.    0.    0.]\n",
      " [-202.    0.    0. ...    0.    0.    0.]]\n"
     ]
    }
   ],
   "source": [
    "epochs = 15\n",
    "Trained_W = train_online_perceptron(X_train, Y_train, epochs)\n",
    "print(Trained_W)   "
   ]
  },
  {
   "cell_type": "code",
   "execution_count": 65,
   "metadata": {},
   "outputs": [
    {
     "name": "stdout",
     "output_type": "stream",
     "text": [
      "Train accuracies:  [94.74222586 95.76513912 94.98772504 96.4811784  95.68330606 95.76513912\n",
      " 95.88788871 95.66284779 95.90834697 96.21522095 96.21522095 95.90834697\n",
      " 96.46072013 96.62438625 95.64238953]\n",
      "Validation accuracies:  [93.37016575 94.53652548 93.49294045 94.84346225 93.67710252 94.35236341\n",
      " 93.79987723 93.86126458 94.78207489 93.92265193 94.04542664 94.29097606\n",
      " 94.2295887  95.27317373 94.59791283]\n"
     ]
    },
    {
     "data": {
      "image/png": "[encoded data removed]",
      "text/plain": [
       "<Figure size 432x288 with 1 Axes>"
      ]
     },
     "metadata": {
      "needs_background": "light"
     },
     "output_type": "display_data"
    }
   ],
   "source": [
    "train_accuracy = np.zeros(epochs)\n",
    "val_accuracy = np.zeros(epochs)\n",
    "\n",
    "for epoch_no in range(epochs):\n",
    "    Y_pred = predict_output(X_train, Trained_W[epoch_no].reshape(len(Trained_W[epoch_no]), 1))\n",
    "    train_accuracy[epoch_no] = calculate_accuracy(Y_train, Y_pred)\n",
    "    Y_val_pred = predict_output(X_val, Trained_W[epoch_no].reshape(len(Trained_W[epoch_no]), 1))\n",
    "    val_accuracy[epoch_no] = calculate_accuracy(Y_val, Y_val_pred)\n",
    "\n",
    "print('Train accuracies: ', train_accuracy)\n",
    "print('Validation accuracies: ', val_accuracy)\n",
    "plt.plot(range(1, epochs+1), train_accuracy, label=\"Training\")\n",
    "plt.plot(range(1, epochs+1), val_accuracy, label=\"Validation\")\n",
    "plt.title('Online Perceptron')\n",
    "plt.xlabel('Iterations')\n",
    "plt.ylabel('Accuracy')\n",
    "plt.legend()\n",
    "plt.show()"
   ]
  },
  {
   "cell_type": "code",
   "execution_count": 75,
   "metadata": {},
   "outputs": [],
   "source": [
    "# Predict output on test data\n",
    "test_df = pd.read_csv('pa2_test_no_label.csv', header=None)\n",
    "X_test = np.column_stack([np.ones((test_df.shape[0],1)).astype(float), test_df.values[:,:]])\n",
    "online_pred = predict_output(X_test, Trained_W[13,:])\n",
    "np.savetxt(\"oplabel.csv\", online_pred, fmt = \"%i\", delimiter = \",\")"
   ]
  }
 ],
 "metadata": {
  "kernelspec": {
   "display_name": "Python 3",
   "language": "python",
   "name": "python3"
  },
  "language_info": {
   "codemirror_mode": {
    "name": "ipython",
    "version": 3
   },
   "file_extension": ".py",
   "mimetype": "text/x-python",
   "name": "python",
   "nbconvert_exporter": "python",
   "pygments_lexer": "ipython3",
   "version": "3.7.1"
  }
 },
 "nbformat": 4,
 "nbformat_minor": 2
}
