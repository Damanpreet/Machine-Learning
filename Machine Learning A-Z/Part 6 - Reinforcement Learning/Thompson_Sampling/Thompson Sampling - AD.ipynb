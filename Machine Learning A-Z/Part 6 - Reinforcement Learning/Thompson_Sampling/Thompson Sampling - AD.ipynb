{
 "cells": [
  {
   "cell_type": "code",
   "execution_count": 6,
   "metadata": {},
   "outputs": [],
   "source": [
    "# importing libraries\n",
    "import numpy as np\n",
    "import pandas as pd\n",
    "import matplotlib.pyplot as plt\n",
    "import random"
   ]
  },
  {
   "cell_type": "code",
   "execution_count": 7,
   "metadata": {},
   "outputs": [],
   "source": [
    "# importing dataset\n",
    "data = pd.read_csv('Ads_CTR_Optimisation.csv')"
   ]
  },
  {
   "cell_type": "code",
   "execution_count": 35,
   "metadata": {},
   "outputs": [],
   "source": [
    "# Thompson Sampling\n",
    "no_users = data.shape[0]\n",
    "no_ads = data.shape[1]\n",
    "number_of_rewards_1 = [0] * no_ads\n",
    "number_of_rewards_0 = [0] * no_ads\n",
    "ads_selected = []\n",
    "total_reward = 0"
   ]
  },
  {
   "cell_type": "code",
   "execution_count": 36,
   "metadata": {},
   "outputs": [],
   "source": [
    "for user_n in range(no_users):\n",
    "    max_random = 0\n",
    "    selected_ad = 0\n",
    "    for ad in range(no_ads):\n",
    "        random_beta = random.betavariate(number_of_rewards_1[ad]+1, number_of_rewards_0[ad]+1)\n",
    "        if random_beta > max_random:\n",
    "            max_random = random_beta\n",
    "            selected_ad = ad\n",
    "    reward = data.values[user_n, selected_ad]\n",
    "    if reward == 1:\n",
    "        number_of_rewards_1[selected_ad] += 1\n",
    "    else:\n",
    "        number_of_rewards_0[selected_ad] += 1\n",
    "    ads_selected.append(selected_ad)\n",
    "    total_reward = sum(number_of_rewards_1)"
   ]
  },
  {
   "cell_type": "code",
   "execution_count": 37,
   "metadata": {},
   "outputs": [
    {
     "name": "stdout",
     "output_type": "stream",
     "text": [
      "2610\n"
     ]
    }
   ],
   "source": [
    "print(total_reward)"
   ]
  },
  {
   "cell_type": "code",
   "execution_count": 38,
   "metadata": {},
   "outputs": [
    {
     "data": {
      "image/png": "[encoded data removed]",
      "text/plain": [
       "<Figure size 432x288 with 1 Axes>"
      ]
     },
     "metadata": {
      "needs_background": "light"
     },
     "output_type": "display_data"
    }
   ],
   "source": [
    "# Visualizing the results\n",
    "plt.hist(ads_selected)\n",
    "plt.title('Histogram of selected ADs')\n",
    "plt.xlabel('ADs')\n",
    "plt.ylabel('Number of times each AD was selected.')\n",
    "plt.show()"
   ]
  }
 ],
 "metadata": {
  "kernelspec": {
   "display_name": "Python 3",
   "language": "python",
   "name": "python3"
  },
  "language_info": {
   "codemirror_mode": {
    "name": "ipython",
    "version": 3
   },
   "file_extension": ".py",
   "mimetype": "text/x-python",
   "name": "python",
   "nbconvert_exporter": "python",
   "pygments_lexer": "ipython3",
   "version": "3.7.0"
  }
 },
 "nbformat": 4,
 "nbformat_minor": 2
}
